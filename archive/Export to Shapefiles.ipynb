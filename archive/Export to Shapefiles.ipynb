{
 "cells": [
  {
   "cell_type": "markdown",
   "metadata": {},
   "source": [
    "## Export DevInfo Table to Shapefiles"
   ]
  },
  {
   "cell_type": "markdown",
   "metadata": {},
   "source": [
    "DevInfo stores the three files (.shp, .shx, and .dbf) in 3 columns in the Access database. This script will execute a query that will return those files, plus an additional column, `Layer_NId`, that will be used to construct the file name. This file name will be referenced by the Export to GeoJSON scripts to include the geometry."
   ]
  },
  {
   "cell_type": "code",
   "execution_count": null,
   "metadata": {
    "collapsed": true
   },
   "outputs": [],
   "source": [
    "import os\n",
    "import pyodbc\n",
    "# [x for x in pyodbc.drivers() if x.startswith('Microsoft Access Driver')]\n",
    "# if you see [], you may need to install the 64-bit ACE drivers\n",
    "# https://github.com/mkleehammer/pyodbc/wiki/Connecting-to-Microsoft-Access\n",
    "# 64bit drivers : https://www.microsoft.com/en-us/download/confirmation.aspx?id=13255\n",
    "\n",
    "from IPython.display import clear_output\n",
    "from IPython.display import display\n",
    "from ipywidgets import widgets, Layout, Label, VBox"
   ]
  },
  {
   "cell_type": "markdown",
   "metadata": {},
   "source": [
    "## Set defaults"
   ]
  },
  {
   "cell_type": "markdown",
   "metadata": {},
   "source": [
    "### Where is your working folder? usually just the name of the country you are working on"
   ]
  },
  {
   "cell_type": "code",
   "execution_count": null,
   "metadata": {},
   "outputs": [],
   "source": [
    "output_base = None\n",
    "\n",
    "lbl_out = Label('Where is your working folder? This is usually just the name of your country.')\n",
    "output_base_txt = widgets.Text(placeholder='my_country_name', \n",
    "                  layout=Layout(width='50%'))\n",
    "\n",
    "out = widgets.Output()\n",
    "def on_value_change(change):\n",
    "    with out:\n",
    "        global output_base\n",
    "        output_base = change['new']\n",
    "\n",
    "output_base_txt.observe(on_value_change, names='value')\n",
    "\n",
    "display(VBox([lbl_out, output_base_txt, out]))"
   ]
  },
  {
   "cell_type": "markdown",
   "metadata": {},
   "source": [
    "### Enter the path to your DevInfo Access Database"
   ]
  },
  {
   "cell_type": "code",
   "execution_count": null,
   "metadata": {},
   "outputs": [],
   "source": [
    "access_database = None\n",
    "\n",
    "lbl_adb = Label('Enter the Path to your DevInfo Access Database')\n",
    "access_database_txt = widgets.Text(placeholder='ex: C:\\\\users\\\\me\\\\devinfo\\\\devinfo.accdb (.mdb)', \n",
    "                  layout=Layout(width='80%'))\n",
    "\n",
    "out = widgets.Output()\n",
    "def on_value_change(change):\n",
    "    with out:\n",
    "        global access_database\n",
    "        access_database = change['new']\n",
    "\n",
    "access_database_txt.observe(on_value_change, names='value')\n",
    "\n",
    "display(VBox([lbl_adb, access_database_txt, out]))"
   ]
  },
  {
   "cell_type": "markdown",
   "metadata": {},
   "source": [
    "### Enter the name of your output folder for the shapefiles"
   ]
  },
  {
   "cell_type": "code",
   "execution_count": null,
   "metadata": {},
   "outputs": [],
   "source": [
    "output_shapes_folder = None\n",
    "\n",
    "lbl_shps = Label('Output Shapefile Folder')\n",
    "output_shpsfolder_txt = widgets.Text(placeholder='ex: output_shapefiles', \n",
    "                  layout=Layout(width='80%'))\n",
    "\n",
    "out = widgets.Output()\n",
    "def on_value_change(change):\n",
    "    with out:\n",
    "        global output_shapes_folder\n",
    "        output_shapes_folder = change['new']\n",
    "\n",
    "output_shpsfolder_txt.observe(on_value_change, names='value')\n",
    "\n",
    "display(VBox([lbl_shps, output_shpsfolder_txt, out]))"
   ]
  },
  {
   "cell_type": "code",
   "execution_count": null,
   "metadata": {
    "collapsed": true
   },
   "outputs": [],
   "source": [
    "access_database = r'C:\\Users\\adam\\devinfo\\tanzania\\TSED_20180423.mdb'"
   ]
  },
  {
   "cell_type": "markdown",
   "metadata": {},
   "source": [
    "## Execute the query against the DevInfo Access tables"
   ]
  },
  {
   "cell_type": "code",
   "execution_count": null,
   "metadata": {
    "collapsed": true
   },
   "outputs": [],
   "source": [
    "connStr = (\n",
    "    r'Driver={{Microsoft Access Driver (*.mdb, *.accdb)}};'\n",
    "    r'DBQ={};'.format(access_database)\n",
    ")\n",
    "\n",
    "cnxn = pyodbc.connect(connStr)\n",
    "\n",
    "sql = \"\"\"\\\n",
    "SELECT \n",
    "UT_Area_Map_Layer.Layer_Shp, \n",
    "UT_Area_Map_Layer.Layer_Shx, \n",
    "UT_Area_Map_Layer.Layer_dbf, \n",
    "UT_Area_Map_Layer.Layer_NId, \n",
    "UT_Area_Map_Metadata_en.Layer_Name, \n",
    "UT_Area_en.Area_Parent_NId, \n",
    "UT_Area_en.Area_ID, \n",
    "UT_Area_en.Area_Level, \n",
    "UT_Area_en.Area_Parent_NId\n",
    "\n",
    "FROM \n",
    "(UT_Area_Map_Layer INNER JOIN UT_Area_Map_Metadata_en ON UT_Area_Map_Layer.Layer_NId = UT_Area_Map_Metadata_en.Layer_NId) INNER JOIN (UT_Area_en INNER JOIN UT_Area_Map ON UT_Area_en.Area_NId = UT_Area_Map.Area_NId) ON UT_Area_Map_Layer.Layer_NId = UT_Area_Map.Layer_NId;\n",
    "\"\"\"\n",
    "crsr = cnxn.execute(sql)\n",
    "\n",
    "# export just a subset for testing\n",
    "rows = crsr.fetchmany(5)\n",
    "\n",
    "# uncomment this to get crazy and export them all!!\n",
    "# rows = crsr.fetchall()\n",
    "\n",
    "print ('sucessfully executed data query :: {} rows returned'.format(len(rows)))"
   ]
  },
  {
   "cell_type": "markdown",
   "metadata": {},
   "source": [
    "## Create Shapefiles\n",
    "Loop through each row in the result set and write out each of the data in the columns to the three files needed for a Shapefile"
   ]
  },
  {
   "cell_type": "code",
   "execution_count": null,
   "metadata": {
    "collapsed": true
   },
   "outputs": [],
   "source": [
    "row_count = len(rows)\n",
    "\n",
    "layer_checks = []\n",
    "\n",
    "for i, row in enumerate(rows):\n",
    "    \n",
    "    shp = row[0]\n",
    "    shx = row[1]\n",
    "    dbf = row[2]\n",
    "\n",
    "    layer_id = row[3]\n",
    "\n",
    "    # We only need to write out one shapefile per layer, so we can skip any duplicates by checking for already created layers\n",
    "    if layer_id in layer_checks:\n",
    "        continue\n",
    "\n",
    "    layer_checks.append(layer_id)\n",
    "\n",
    "    out_file = '{}/{}'.format(os.path.join(output_base, output_shapes_folder), layer_id)\n",
    "\n",
    "    print ('adding {} of {}'.format(i+1, row_count))\n",
    "    clear_output(wait=True)\n",
    "\n",
    "    with open('{}.shp'.format(out_file), 'wb') as writer:\n",
    "        writer.write(shp)\n",
    "    with open('{}.shx'.format(out_file), 'wb') as writer:\n",
    "        writer.write(shx)\n",
    "    with open('{}.dbf'.format(out_file), 'wb') as writer:\n",
    "        writer.write(dbf)\n",
    "        \n",
    "    # here we are also writing a GCS WGS 1984 .prj file that will define the spatial reference of each shapefile\n",
    "    with open('{}.prj'.format(out_file), 'w') as writer:\n",
    "        writer.write('GEOGCS[\"GCS_WGS_1984\",DATUM[\"D_WGS_1984\",SPHEROID[\"WGS_1984\",6378137,298.257223563]],PRIMEM[\"Greenwich\",0],UNIT[\"Degree\",0.017453292519943295]]')\n",
    "        \n",
    "print ('done writing shapefiles to {}'.format(os.path.abspath(os.path.join(output_base, output_shapes_folder))))"
   ]
  },
  {
   "cell_type": "code",
   "execution_count": null,
   "metadata": {},
   "outputs": [],
   "source": []
  }
 ],
 "metadata": {
  "kernelspec": {
   "display_name": "Python 3",
   "language": "python",
   "name": "python3"
  },
  "language_info": {
   "codemirror_mode": {
    "name": "ipython",
    "version": 3
   },
   "file_extension": ".py",
   "mimetype": "text/x-python",
   "name": "python",
   "nbconvert_exporter": "python",
   "pygments_lexer": "ipython3",
   "version": "3.6.3"
  }
 },
 "nbformat": 4,
 "nbformat_minor": 2
}
