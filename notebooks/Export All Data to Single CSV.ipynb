{
 "cells": [
  {
   "cell_type": "markdown",
   "metadata": {},
   "source": [
    "## Export All Data to Single CSV\n",
    "This notebook will walk you through the process of exporting indicator data as a single CSV file"
   ]
  },
  {
   "cell_type": "code",
   "execution_count": 8,
   "metadata": {
    "collapsed": true
   },
   "outputs": [],
   "source": [
    "import os\n",
    "import pyodbc\n",
    "import csv\n",
    "# [x for x in pyodbc.drivers() if x.startswith('Microsoft Access Driver')]\n",
    "# if you see [], you may need to install the 64-bit ACE drivers\n",
    "# https://github.com/mkleehammer/pyodbc/wiki/Connecting-to-Microsoft-Access\n",
    "# 64bit drivers : https://www.microsoft.com/en-us/download/confirmation.aspx?id=13255"
   ]
  },
  {
   "cell_type": "markdown",
   "metadata": {},
   "source": [
    "## Configure your paths and folders"
   ]
  },
  {
   "cell_type": "code",
   "execution_count": 9,
   "metadata": {
    "collapsed": true
   },
   "outputs": [],
   "source": [
    "access_database = r'C:\\Users\\adam\\devinfo\\tanzania\\TSED_20180423.mdb'\n",
    "output_folder = 'tanzania'\n",
    "output_csv = 'devinfo_output_tz.csv'"
   ]
  },
  {
   "cell_type": "markdown",
   "metadata": {},
   "source": [
    "## Execute the query against the DevInfo Access tables"
   ]
  },
  {
   "cell_type": "code",
   "execution_count": 23,
   "metadata": {},
   "outputs": [
    {
     "name": "stdout",
     "output_type": "stream",
     "text": [
      "sucessfully executed data query :: 65562 rows returned\n"
     ]
    }
   ],
   "source": [
    "connStr = (\n",
    "    r\"Driver={{Microsoft Access Driver (*.mdb, *.accdb)}};\"\n",
    "    r\"DBQ={};\".format(access_database)\n",
    "    )\n",
    "\n",
    "cnxn = pyodbc.connect(connStr)\n",
    "\n",
    "sql = \"\"\"\\\n",
    "SELECT\n",
    "UT_Data.Indicator_NId AS INDICATOR_ID, \n",
    "UT_Indicator_en.Indicator_Name AS INDICATOR, \n",
    "UT_Data.Data_Value AS OBS_VALUE, \n",
    "UT_Unit_en.Unit_NId AS UNIT_ID, \n",
    "UT_Unit_en.Unit_Name AS UNIT, \n",
    "UT_Area_en.Area_ID AS REF_AREA_ID, \n",
    "UT_Area_en.Area_Name AS REF_AREA, \n",
    "UT_TimePeriod.TimePeriod AS TIME_PERIOD,\n",
    "\n",
    "UT_Indicator_Classifications_en.Publisher AS PUBLISHER,\n",
    "UT_Area_Map_Layer.Layer_NId AS LAYER_ID,\n",
    "\n",
    "UT_Area_Level_en.Area_Level_Name AS AREA_LEVEL_NAME, \n",
    "UT_Area_en.Area_Level AS AREA_LEVEL,\n",
    "UT_Indicator_Classifications_en.IC_Name AS IC_NAME, \n",
    "UT_Subgroup_Vals_en.Subgroup_Val AS SUBGROUP_VAL, \n",
    "UT_Subgroup_Type_en.Subgroup_Type_Name AS SUBGROUP_TYPE_NAME\n",
    "\n",
    "FROM \n",
    "((((UT_Area_Map_Layer INNER JOIN ((UT_Area_Level_en INNER JOIN (UT_Subgroup_Vals_en INNER JOIN (UT_Unit_en INNER JOIN (UT_Indicator_en INNER JOIN (UT_Indicator_Unit_Subgroup INNER JOIN (UT_TimePeriod INNER JOIN (UT_Indicator_Classifications_en INNER JOIN (UT_Area_en INNER JOIN UT_Data ON UT_Area_en.[Area_NId] = UT_Data.[Area_NId]) ON UT_Indicator_Classifications_en.IC_NId = UT_Data.Source_NId) ON UT_TimePeriod.TimePeriod_NId = UT_Data.TimePeriod_NId) ON UT_Indicator_Unit_Subgroup.IUSNId = UT_Data.IUSNId) ON UT_Indicator_en.Indicator_NId = UT_Indicator_Unit_Subgroup.Indicator_NId) ON UT_Unit_en.Unit_NId = UT_Indicator_Unit_Subgroup.Unit_NId) ON UT_Subgroup_Vals_en.Subgroup_Val_NId = UT_Indicator_Unit_Subgroup.Subgroup_Val_NId) ON UT_Area_Level_en.Area_Level = UT_Area_en.Area_Level) INNER JOIN UT_Area_Map ON UT_Area_en.Area_NId = UT_Area_Map.Area_NId) ON UT_Area_Map_Layer.Layer_NId = UT_Area_Map.Layer_NId) INNER JOIN UT_Area_Map_Metadata_en ON UT_Area_Map_Layer.Layer_NId = UT_Area_Map_Metadata_en.Layer_NId) INNER JOIN UT_Subgroup_Vals_Subgroup ON UT_Subgroup_Vals_en.Subgroup_Val_NId = UT_Subgroup_Vals_Subgroup.Subgroup_Val_NId) INNER JOIN UT_Subgroup_en ON UT_Subgroup_Vals_Subgroup.Subgroup_NId = UT_Subgroup_en.Subgroup_NId) INNER JOIN UT_Subgroup_Type_en ON UT_Subgroup_en.Subgroup_Type = UT_Subgroup_Type_en.Subgroup_Type_NId\n",
    "\n",
    "ORDER BY \n",
    "UT_Data.Indicator_NId\n",
    "\"\"\"\n",
    "\n",
    "crsr = cnxn.execute(sql)\n",
    "\n",
    "rows = crsr.fetchall()\n",
    "\n",
    "print ('sucessfully executed data query :: {} rows returned'.format(len(rows)))"
   ]
  },
  {
   "cell_type": "markdown",
   "metadata": {},
   "source": [
    "## Prepare to query the DevInfo Access Database\n",
    "Here we will map our DevInfo fields to the DSD as defined here. **TODO :: add link(s) to reference data schema**\n",
    "\n",
    "This is our ouptut data schema that will be in the CSV file."
   ]
  },
  {
   "cell_type": "code",
   "execution_count": 21,
   "metadata": {},
   "outputs": [],
   "source": [
    "# 'DSD_FIELD' : 'DevInfoField'\n",
    "field_mappings = [\n",
    "    'INDICATOR_ID',\n",
    "    'INDICATOR',\n",
    "    'REF_AREA',\n",
    "    'REF_AREA_ID',\n",
    "    'OBS_VALUE',\n",
    "    'UNIT_ID',\n",
    "    'UNIT',\n",
    "    'TIME_PERIOD'\n",
    "]\n",
    "\n",
    "# add in any additional fields you want in the output\n",
    "add_fields = [\n",
    "    'PUBLISHER',\n",
    "    'LAYER_ID'\n",
    "]\n",
    "\n",
    "# combine the two dictionaries\n",
    "field_mappings = field_mappings + add_fields"
   ]
  },
  {
   "cell_type": "markdown",
   "metadata": {},
   "source": [
    "## Write the result to a CSV file"
   ]
  },
  {
   "cell_type": "code",
   "execution_count": 22,
   "metadata": {},
   "outputs": [
    {
     "name": "stdout",
     "output_type": "stream",
     "text": [
      "csv successfully created at C:\\Users\\adam\\devinfo\\devinfo_output_tz.csv\n"
     ]
    }
   ],
   "source": [
    "output_path = os.path.join(output_folder, output_csv)\n",
    "with open(output_path, 'w', encoding='utf-8', newline='') as csvfile:\n",
    "    writer = csv.writer(csvfile)\n",
    "    \n",
    "    header_row = []\n",
    "    for field in field_mappings:\n",
    "        header_row.append(field)\n",
    "        \n",
    "    writer.writerow(header_row)\n",
    "    \n",
    "    for row in rows:\n",
    "        new_row = []\n",
    "        for field in field_mappings:\n",
    "            new_row.append(getattr(row, field))\n",
    "        \n",
    "        writer.writerow(new_row)\n",
    "\n",
    "print ('csv successfully created at {}'.format(os.path.abspath(output_csv)))"
   ]
  },
  {
   "cell_type": "code",
   "execution_count": null,
   "metadata": {},
   "outputs": [],
   "source": []
  }
 ],
 "metadata": {
  "kernelspec": {
   "display_name": "Python 3",
   "language": "python",
   "name": "python3"
  },
  "language_info": {
   "codemirror_mode": {
    "name": "ipython",
    "version": 3
   },
   "file_extension": ".py",
   "mimetype": "text/x-python",
   "name": "python",
   "nbconvert_exporter": "python",
   "pygments_lexer": "ipython3",
   "version": "3.6.3"
  }
 },
 "nbformat": 4,
 "nbformat_minor": 2
}
