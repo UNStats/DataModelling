{
 "cells": [
  {
   "cell_type": "markdown",
   "metadata": {},
   "source": [
    "## Export All Data to Single CSV\n",
    "This notebook will walk you through the process of exporting indicator data as a single CSV file"
   ]
  },
  {
   "cell_type": "code",
   "execution_count": null,
   "metadata": {
    "collapsed": true
   },
   "outputs": [],
   "source": [
    "import os\n",
    "import pyodbc\n",
    "import csv\n",
    "from IPython.display import display\n",
    "from ipywidgets import widgets, Layout, Label, VBox\n",
    "\n",
    "# [x for x in pyodbc.drivers() if x.startswith('Microsoft Access Driver')]\n",
    "# if you see [], you may need to install the 64-bit ACE drivers\n",
    "# https://github.com/mkleehammer/pyodbc/wiki/Connecting-to-Microsoft-Access\n",
    "# 64bit drivers : https://www.microsoft.com/en-us/download/confirmation.aspx?id=13255"
   ]
  },
  {
   "cell_type": "markdown",
   "metadata": {},
   "source": [
    "## Set defaults"
   ]
  },
  {
   "cell_type": "markdown",
   "metadata": {},
   "source": [
    "### Where is your working folder? usually just the name of the country you are working on"
   ]
  },
  {
   "cell_type": "code",
   "execution_count": null,
   "metadata": {},
   "outputs": [],
   "source": [
    "output_base = None\n",
    "\n",
    "lbl_out = Label('Where is your working folder? This is usually just the name of your country.')\n",
    "output_base_txt = widgets.Text(placeholder='my_country_name', \n",
    "                  layout=Layout(width='50%'))\n",
    "\n",
    "out = widgets.Output()\n",
    "def on_value_change(change):\n",
    "    with out:\n",
    "        global output_base\n",
    "        output_base = change['new']\n",
    "\n",
    "output_base_txt.observe(on_value_change, names='value')\n",
    "\n",
    "display(VBox([lbl_out, output_base_txt, out]))"
   ]
  },
  {
   "cell_type": "markdown",
   "metadata": {},
   "source": [
    "### Enter the path to your DevInfo Access Database"
   ]
  },
  {
   "cell_type": "code",
   "execution_count": null,
   "metadata": {},
   "outputs": [],
   "source": [
    "access_database = None\n",
    "\n",
    "lbl_adb = Label('Enter the Path to your DevInfo Access Database')\n",
    "access_database_txt = widgets.Text(placeholder='ex: C:\\\\users\\\\me\\\\devinfo\\\\devinfo.accdb (.mdb)', \n",
    "                  layout=Layout(width='80%'))\n",
    "\n",
    "out = widgets.Output()\n",
    "def on_value_change(change):\n",
    "    with out:\n",
    "        global access_database\n",
    "        access_database = change['new']\n",
    "\n",
    "access_database_txt.observe(on_value_change, names='value')\n",
    "\n",
    "display(VBox([lbl_adb, access_database_txt, out]))"
   ]
  },
  {
   "cell_type": "markdown",
   "metadata": {},
   "source": [
    "### Enter the name of your output CSV file"
   ]
  },
  {
   "cell_type": "code",
   "execution_count": null,
   "metadata": {},
   "outputs": [],
   "source": [
    "output_csv = None\n",
    "\n",
    "lbl_csv = Label('Name your output CSV file')\n",
    "output_csv_txt = widgets.Text(placeholder='ex: devinfo_output.csv', \n",
    "                  layout=Layout(width='80%'))\n",
    "\n",
    "out = widgets.Output()\n",
    "def on_value_change(change):\n",
    "    with out:\n",
    "        global output_csv\n",
    "        output_csv = change['new']\n",
    "\n",
    "output_csv_txt.observe(on_value_change, names='value')\n",
    "\n",
    "display(VBox([lbl_csv, output_csv_txt, out]))"
   ]
  },
  {
   "cell_type": "code",
   "execution_count": null,
   "metadata": {
    "collapsed": true
   },
   "outputs": [],
   "source": [
    "access_database = r'C:\\Users\\adam\\devinfo\\tanzania\\TSED_20180423.mdb'\n",
    "output_csv = 'devinfo_output_tz.csv'"
   ]
  },
  {
   "cell_type": "markdown",
   "metadata": {},
   "source": [
    "## Execute the query against the DevInfo Access tables"
   ]
  },
  {
   "cell_type": "code",
   "execution_count": null,
   "metadata": {},
   "outputs": [],
   "source": [
    "connStr = (\n",
    "    r\"Driver={{Microsoft Access Driver (*.mdb, *.accdb)}};\"\n",
    "    r\"DBQ={};\".format(access_database)\n",
    "    )\n",
    "\n",
    "cnxn = pyodbc.connect(connStr)\n",
    "\n",
    "sql = \"\"\"\\\n",
    "SELECT\n",
    "UT_Data.Indicator_NId AS INDICATOR_ID, \n",
    "UT_Indicator_en.Indicator_Name AS INDICATOR, \n",
    "UT_Data.Data_Value AS OBS_VALUE, \n",
    "UT_Unit_en.Unit_NId AS UNIT_ID, \n",
    "UT_Unit_en.Unit_Name AS UNIT, \n",
    "UT_Area_en.Area_ID AS REF_AREA_ID, \n",
    "UT_Area_en.Area_Name AS REF_AREA, \n",
    "UT_TimePeriod.TimePeriod AS TIME_PERIOD,\n",
    "\n",
    "UT_Indicator_Classifications_en.Publisher AS PUBLISHER,\n",
    "UT_Area_Map_Layer.Layer_NId AS LAYER_ID,\n",
    "\n",
    "UT_Area_Level_en.Area_Level_Name AS AREA_LEVEL_NAME, \n",
    "UT_Area_en.Area_Level AS AREA_LEVEL,\n",
    "UT_Indicator_Classifications_en.IC_Name AS IC_NAME, \n",
    "UT_Subgroup_Vals_en.Subgroup_Val AS SUBGROUP_VAL, \n",
    "UT_Subgroup_Type_en.Subgroup_Type_Name AS SUBGROUP_TYPE_NAME\n",
    "\n",
    "FROM \n",
    "((((UT_Area_Map_Layer INNER JOIN ((UT_Area_Level_en INNER JOIN (UT_Subgroup_Vals_en INNER JOIN (UT_Unit_en INNER JOIN (UT_Indicator_en INNER JOIN (UT_Indicator_Unit_Subgroup INNER JOIN (UT_TimePeriod INNER JOIN (UT_Indicator_Classifications_en INNER JOIN (UT_Area_en INNER JOIN UT_Data ON UT_Area_en.[Area_NId] = UT_Data.[Area_NId]) ON UT_Indicator_Classifications_en.IC_NId = UT_Data.Source_NId) ON UT_TimePeriod.TimePeriod_NId = UT_Data.TimePeriod_NId) ON UT_Indicator_Unit_Subgroup.IUSNId = UT_Data.IUSNId) ON UT_Indicator_en.Indicator_NId = UT_Indicator_Unit_Subgroup.Indicator_NId) ON UT_Unit_en.Unit_NId = UT_Indicator_Unit_Subgroup.Unit_NId) ON UT_Subgroup_Vals_en.Subgroup_Val_NId = UT_Indicator_Unit_Subgroup.Subgroup_Val_NId) ON UT_Area_Level_en.Area_Level = UT_Area_en.Area_Level) INNER JOIN UT_Area_Map ON UT_Area_en.Area_NId = UT_Area_Map.Area_NId) ON UT_Area_Map_Layer.Layer_NId = UT_Area_Map.Layer_NId) INNER JOIN UT_Area_Map_Metadata_en ON UT_Area_Map_Layer.Layer_NId = UT_Area_Map_Metadata_en.Layer_NId) INNER JOIN UT_Subgroup_Vals_Subgroup ON UT_Subgroup_Vals_en.Subgroup_Val_NId = UT_Subgroup_Vals_Subgroup.Subgroup_Val_NId) INNER JOIN UT_Subgroup_en ON UT_Subgroup_Vals_Subgroup.Subgroup_NId = UT_Subgroup_en.Subgroup_NId) INNER JOIN UT_Subgroup_Type_en ON UT_Subgroup_en.Subgroup_Type = UT_Subgroup_Type_en.Subgroup_Type_NId\n",
    "\n",
    "ORDER BY \n",
    "UT_Data.Indicator_NId\n",
    "\"\"\"\n",
    "\n",
    "crsr = cnxn.execute(sql)\n",
    "\n",
    "rows = crsr.fetchall()\n",
    "\n",
    "print ('sucessfully executed data query :: {} rows returned'.format(len(rows)))"
   ]
  },
  {
   "cell_type": "markdown",
   "metadata": {},
   "source": [
    "## Prepare to query the DevInfo Access Database\n",
    "Here we will map our DevInfo fields to the DSD as defined here. **TODO :: add link(s) to reference data schema**\n",
    "\n",
    "This is our ouptut data schema that will be in the CSV file."
   ]
  },
  {
   "cell_type": "code",
   "execution_count": null,
   "metadata": {},
   "outputs": [],
   "source": [
    "# 'DSD_FIELD' : 'DevInfoField'\n",
    "field_mappings = [\n",
    "    'INDICATOR_ID',\n",
    "    'INDICATOR',\n",
    "    'REF_AREA',\n",
    "    'REF_AREA_ID',\n",
    "    'OBS_VALUE',\n",
    "    'UNIT_ID',\n",
    "    'UNIT',\n",
    "    'TIME_PERIOD'\n",
    "]\n",
    "\n",
    "# add in any additional fields you want in the output\n",
    "add_fields = [\n",
    "    'PUBLISHER',\n",
    "    'LAYER_ID'\n",
    "]\n",
    "\n",
    "# combine the two dictionaries\n",
    "field_mappings = field_mappings + add_fields"
   ]
  },
  {
   "cell_type": "markdown",
   "metadata": {},
   "source": [
    "## Write the result to a CSV file"
   ]
  },
  {
   "cell_type": "code",
   "execution_count": null,
   "metadata": {},
   "outputs": [],
   "source": [
    "output_path = os.path.join(output_base, output_csv)\n",
    "\n",
    "# set encoding \n",
    "# when reading some CSV files, there may be encoding issues that result in unicode characters appearing in the field names\n",
    "# if you have any unexpected behavior that is related to this, either re-save your file with \"utf-8\" encoding\n",
    "# or try using 'utf-8-sig' as your encoding value below\n",
    "# Stack Overflow reference: https://stackoverflow.com/questions/17912307/u-ufeff-in-python-string/17912811#17912811\n",
    "encoding = 'utf-8'\n",
    "with open(output_path, 'w', encoding=encoding, newline='') as csvfile:\n",
    "    writer = csv.writer(csvfile)\n",
    "    \n",
    "    header_row = []\n",
    "    for field in field_mappings:\n",
    "        header_row.append(field)\n",
    "        \n",
    "    writer.writerow(header_row)\n",
    "    \n",
    "    for row in rows:\n",
    "        new_row = []\n",
    "        for field in field_mappings:\n",
    "            new_row.append(getattr(row, field))\n",
    "        \n",
    "        writer.writerow(new_row)\n",
    "\n",
    "print ('csv successfully created at {}'.format(os.path.abspath(output_path)))"
   ]
  },
  {
   "cell_type": "code",
   "execution_count": null,
   "metadata": {},
   "outputs": [],
   "source": []
  }
 ],
 "metadata": {
  "kernelspec": {
   "display_name": "Python 3",
   "language": "python",
   "name": "python3"
  },
  "language_info": {
   "codemirror_mode": {
    "name": "ipython",
    "version": 3
   },
   "file_extension": ".py",
   "mimetype": "text/x-python",
   "name": "python",
   "nbconvert_exporter": "python",
   "pygments_lexer": "ipython3",
   "version": "3.6.3"
  }
 },
 "nbformat": 4,
 "nbformat_minor": 2
}
