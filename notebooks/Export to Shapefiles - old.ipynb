{
 "cells": [
  {
   "cell_type": "markdown",
   "metadata": {},
   "source": [
    "## export to shapefiles"
   ]
  },
  {
   "cell_type": "markdown",
   "metadata": {},
   "source": [
    "export data that is stored in the devinfo access database to shapefiles. the file name of each shapefile will be its layer id as defined in the access database "
   ]
  },
  {
   "cell_type": "markdown",
   "metadata": {},
   "source": [
    "As we are using the **[ArcPy](http://pro.arcgis.com/en/pro-app/arcpy/get-started/what-is-arcpy-.htm)** python library, we will need to start our Jupyter Notebook the following way:\n",
    "\n",
    "- Open ArcGIS Pro\n",
    "- Click the **Project** tab and click **Python** to access the **Python Package Manager**. To create, edit or remove environments click on the **Manage Environments** button.\n",
    "- Clone the existing default python environment as the default is read-only. *[reference](http://pro.arcgis.com/en/pro-app/arcpy/get-started/what-is-conda.htm#ESRI_SECTION2_1B154688AEE0497F836B3FFBAAAD0C8C)*\n",
    "- Find the `pyodbc` package in the list and install it. *[reference](http://pro.arcgis.com/en/pro-app/arcpy/get-started/what-is-conda.htm#ESRI_SECTION2_85BC919097434B3B9AE1A746D793AA29)*\n",
    "- **IMPORTANT** Open the `Python Command Prompt` and verify the path is to your new, cloned enviornment\n",
    "- Use the `cd <path>` command to change to your working directory\n",
    "- From the `Python Command Prompt`, start your Jupyter Notebook server using the `jupyter notebook` command"
   ]
  },
  {
   "cell_type": "code",
   "execution_count": null,
   "metadata": {},
   "outputs": [],
   "source": [
    "import os\n",
    "import arcpy\n",
    "import pyodbc\n",
    "# [x for x in pyodbc.drivers() if x.startswith('Microsoft Access Driver')]\n",
    "# if you see [], you may need to install the 64-bit ACE drivers\n",
    "# https://github.com/mkleehammer/pyodbc/wiki/Connecting-to-Microsoft-Access\n",
    "# 64bit drivers : https://www.microsoft.com/en-us/download/confirmation.aspx?id=13255\n",
    "\n",
    "from IPython.display import clear_output"
   ]
  },
  {
   "cell_type": "code",
   "execution_count": null,
   "metadata": {},
   "outputs": [],
   "source": [
    "access_database = r'Z:\\dev\\nepal-import\\NepalInfo2016_for_python.accdb'\n",
    "output_base = 'nepal'\n",
    "output_shapes_folder = 'shapes'"
   ]
  },
  {
   "cell_type": "code",
   "execution_count": null,
   "metadata": {},
   "outputs": [],
   "source": [
    "connStr = (\n",
    "    r'Driver={{Microsoft Access Driver (*.mdb, *.accdb)}};'\n",
    "    r'DBQ={};'.format(access_database)\n",
    ")\n",
    "\n",
    "cnxn = pyodbc.connect(connStr)\n",
    "\n",
    "sql = \"\"\"\\\n",
    "SELECT layer_shp, layer_shx, layer_dbf, layer_nid, layer_name, area_id, area_level, UT_Area_en.area_parent_nid\n",
    "FROM export_shps \n",
    "ORDER BY area_level ASC\n",
    "\"\"\"\n",
    "crsr = cnxn.execute(sql)\n",
    "\n",
    "# export just a subset for testing\n",
    "# rows = crsr.fetchmany(50)\n",
    "\n",
    "# uncomment this to get crazy and export them all!!\n",
    "rows = crsr.fetchall()\n",
    "\n",
    "print ('sucessfully executed data query :: {} rows returned'.format(len(rows)))"
   ]
  },
  {
   "cell_type": "markdown",
   "metadata": {},
   "source": [
    "## Create Shapefiles"
   ]
  },
  {
   "cell_type": "code",
   "execution_count": null,
   "metadata": {},
   "outputs": [],
   "source": [
    "row_count = len(rows)\n",
    "\n",
    "layer_checks = []\n",
    "\n",
    "for i, row in enumerate(rows):\n",
    "    if i == 5:\n",
    "        break\n",
    "\n",
    "    shp = row[0]\n",
    "    shx = row[1]\n",
    "    dbf = row[2]\n",
    "\n",
    "    layer_id = row[3]\n",
    "\n",
    "    if layer_id in layer_checks:\n",
    "        continue\n",
    "\n",
    "    layer_checks.append(layer_id)\n",
    "\n",
    "    out_file = '{}/{}'.format(os.path.join(output_base, output_shapes_folder), layer_id)\n",
    "\n",
    "    print ('adding {} of {}'.format(i, row_count))\n",
    "    clear_output(wait=True)\n",
    "\n",
    "    with open('{}.shp'.format(out_file), 'wb') as writer:\n",
    "        writer.write(shp)\n",
    "    with open('{}.shx'.format(out_file), 'wb') as writer:\n",
    "        writer.write(shx)\n",
    "    with open('{}.dbf'.format(out_file), 'wb') as writer:\n",
    "        writer.write(dbf)\n",
    "    with open('{}.prj'.format(out_file), 'w') as writer:\n",
    "        writer.write('GEOGCS[\"GCS_WGS_1984\",DATUM[\"D_WGS_1984\",SPHEROID[\"WGS_1984\",6378137,298.257223563]],PRIMEM[\"Greenwich\",0],UNIT[\"Degree\",0.017453292519943295]]')"
   ]
  },
  {
   "cell_type": "code",
   "execution_count": null,
   "metadata": {},
   "outputs": [],
   "source": []
  }
 ],
 "metadata": {
  "kernelspec": {
   "display_name": "Python 3",
   "language": "python",
   "name": "python3"
  },
  "language_info": {
   "codemirror_mode": {
    "name": "ipython",
    "version": 3
   },
   "file_extension": ".py",
   "mimetype": "text/x-python",
   "name": "python",
   "nbconvert_exporter": "python",
   "pygments_lexer": "ipython3",
   "version": "3.6.5"
  }
 },
 "nbformat": 4,
 "nbformat_minor": 2
}
