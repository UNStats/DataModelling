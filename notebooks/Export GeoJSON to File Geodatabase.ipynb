{
 "cells": [
  {
   "cell_type": "markdown",
   "metadata": {},
   "source": [
    "## Export GeoJSON to File Geodatabase\n",
    "This notebook will walk you through exporting GeoJSON files to feature classes in a File Geodatabase."
   ]
  },
  {
   "cell_type": "markdown",
   "metadata": {},
   "source": [
    "## Import the needed Python libraries\n",
    "For more information on working with `arcpy`, please see [here](http://pro.arcgis.com/en/pro-app/arcpy/get-started/what-is-arcpy-.htm)."
   ]
  },
  {
   "cell_type": "code",
   "execution_count": null,
   "metadata": {},
   "outputs": [],
   "source": [
    "import os\n",
    "import arcpy\n",
    "\n",
    "from IPython.display import display\n",
    "from ipywidgets import widgets, Layout, Label, VBox"
   ]
  },
  {
   "cell_type": "markdown",
   "metadata": {},
   "source": [
    "## Set defaults"
   ]
  },
  {
   "cell_type": "markdown",
   "metadata": {},
   "source": [
    "### Where is your working folder? usually just the name of the country you are working on"
   ]
  },
  {
   "cell_type": "code",
   "execution_count": null,
   "metadata": {},
   "outputs": [],
   "source": [
    "working_directory = None\n",
    "\n",
    "lbl_wd = Label('Where is your working folder? This is usually just the name of your country.')\n",
    "working_directory_txt = widgets.Text(placeholder='C:\\\\users\\\\me\\\\devinfo\\\\country_name', \n",
    "                  layout=Layout(width='50%'))\n",
    "\n",
    "out = widgets.Output()\n",
    "def on_value_change(change):\n",
    "    with out:\n",
    "        global working_directory\n",
    "        working_directory = change['new']\n",
    "\n",
    "working_directory_txt.observe(on_value_change, names='value')\n",
    "\n",
    "display(VBox([lbl_wd, working_directory_txt, out]))"
   ]
  },
  {
   "cell_type": "markdown",
   "metadata": {},
   "source": [
    "## Where are your input geojson files located?"
   ]
  },
  {
   "cell_type": "code",
   "execution_count": null,
   "metadata": {},
   "outputs": [],
   "source": [
    "input_geojsons_folder = None\n",
    "\n",
    "lbl_gj = Label('Where are your input geojson files located?')\n",
    "input_geojsons_folder_txt = widgets.Text(placeholder='C:\\\\users\\\\me\\\\devinfo\\\\geojson_files', \n",
    "                  layout=Layout(width='50%'))\n",
    "\n",
    "out = widgets.Output()\n",
    "def on_value_change(change):\n",
    "    with out:\n",
    "        global input_geojsons_folder\n",
    "        input_geojsons_folder = change['new']\n",
    "\n",
    "input_geojsons_folder_txt.observe(on_value_change, names='value')\n",
    "\n",
    "display(VBox([lbl_gj, input_geojsons_folder_txt, out]))"
   ]
  },
  {
   "cell_type": "markdown",
   "metadata": {},
   "source": [
    "## Create File Geodatabase"
   ]
  },
  {
   "cell_type": "code",
   "execution_count": null,
   "metadata": {},
   "outputs": [],
   "source": [
    "# tell arcpy where you are working\n",
    "arcpy.env.workspace = working_directory\n",
    "\n",
    "# this will be the name of the output file geodatabase\n",
    "fgdb_name = 'tanzania'\n",
    "\n",
    "# create the file geodatabase\n",
    "arcpy.CreateFileGDB_management(working_directory, fgdb_name)"
   ]
  },
  {
   "cell_type": "markdown",
   "metadata": {},
   "source": [
    "## Export each GeoJSON file to a feature class"
   ]
  },
  {
   "cell_type": "code",
   "execution_count": null,
   "metadata": {},
   "outputs": [],
   "source": [
    "# loop through each geojson file and use the arcpy library to convert it to a feature class in your new file geodatabase\n",
    "for file_name in os.listdir(input_geojsons_folder):\n",
    "    short_name = os.path.splitext(file_name)[0]\n",
    "    full_path_to_file = os.path.abspath(file_name)\n",
    "    \n",
    "    out_full = os.path.join(working_directory, '{}.gdb'.format(fgdb_name), short_name)\n",
    "#     print (full_path_to_file, '-->', out_full)\n",
    "    arcpy.JSONToFeatures_conversion(full_path_to_file, out_full)\n",
    "\n",
    "print ('done creating feature classes. open file geodatabase to view')"
   ]
  }
 ],
 "metadata": {
  "kernelspec": {
   "display_name": "Python 3",
   "language": "python",
   "name": "python3"
  },
  "language_info": {
   "codemirror_mode": {
    "name": "ipython",
    "version": 3
   },
   "file_extension": ".py",
   "mimetype": "text/x-python",
   "name": "python",
   "nbconvert_exporter": "python",
   "pygments_lexer": "ipython3",
   "version": "3.6.3"
  }
 },
 "nbformat": 4,
 "nbformat_minor": 2
}
