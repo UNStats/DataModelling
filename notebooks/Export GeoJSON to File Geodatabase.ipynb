{
 "cells": [
  {
   "cell_type": "markdown",
   "metadata": {},
   "source": [
    "## Export GeoJSON to File Geodatabase\n",
    "This notebook will walk you through exporting GeoJSON files to feature classes in a File Geodatabase."
   ]
  },
  {
   "cell_type": "markdown",
   "metadata": {},
   "source": [
    "## Import the needed Python libraries\n",
    "For more information on working with `arcpy`, please see [here](http://pro.arcgis.com/en/pro-app/arcpy/get-started/what-is-arcpy-.htm)."
   ]
  },
  {
   "cell_type": "code",
   "execution_count": null,
   "metadata": {},
   "outputs": [],
   "source": [
    "import os\n",
    "import arcpy"
   ]
  },
  {
   "cell_type": "markdown",
   "metadata": {},
   "source": [
    "## Configure your paths and folders"
   ]
  },
  {
   "cell_type": "code",
   "execution_count": null,
   "metadata": {},
   "outputs": [],
   "source": [
    "# set your working directory\n",
    "working_directory = r'C:\\Users\\adam\\devinfo\\tanzania'\n",
    "\n",
    "# where are the geojson files located?\n",
    "input_geojsons_folder = 'geojson_full'\n",
    "\n",
    "# tell arcpy where you are working\n",
    "arcpy.env.workspace = working_directory"
   ]
  },
  {
   "cell_type": "markdown",
   "metadata": {},
   "source": [
    "## Create File Geodatabase"
   ]
  },
  {
   "cell_type": "code",
   "execution_count": null,
   "metadata": {},
   "outputs": [],
   "source": [
    "# this will be the name of the output file geodatabase\n",
    "fgdb_name = 'tanzania'\n",
    "\n",
    "# create the file geodatabase\n",
    "arcpy.CreateFileGDB_management(working_directory, fgdb_name)"
   ]
  },
  {
   "cell_type": "markdown",
   "metadata": {},
   "source": [
    "## Export each GeoJSON file to a feature class"
   ]
  },
  {
   "cell_type": "code",
   "execution_count": null,
   "metadata": {},
   "outputs": [],
   "source": [
    "# loop through each geojson file and use the arcpy library to convert it to a feature class in your new file geodatabase\n",
    "for file_name in os.listdir(os.path.join(working_directory, input_geojsons_folder)):\n",
    "    short_name = os.path.splitext(file_name)[0]\n",
    "    full_path_to_file = os.path.abspath(file_name)\n",
    "    \n",
    "    out_full = os.path.join(working_directory, '{}.gdb'.format(fgdb_name), short_name)\n",
    "#     print (full_path_to_file, '-->', out_full)\n",
    "    arcpy.JSONToFeatures_conversion(full_path_to_file, out_full)\n",
    "\n",
    "print ('done creating feature classes. open file geodatabase to view')"
   ]
  }
 ],
 "metadata": {
  "kernelspec": {
   "display_name": "Python 3",
   "language": "python",
   "name": "python3"
  },
  "language_info": {
   "codemirror_mode": {
    "name": "ipython",
    "version": 3
   },
   "file_extension": ".py",
   "mimetype": "text/x-python",
   "name": "python",
   "nbconvert_exporter": "python",
   "pygments_lexer": "ipython3",
   "version": "3.6.3"
  }
 },
 "nbformat": 4,
 "nbformat_minor": 2
}
