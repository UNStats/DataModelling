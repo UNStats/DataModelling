{
 "cells": [
  {
   "cell_type": "markdown",
   "metadata": {},
   "source": [
    "# Map DevInfo Indicators to SDG Indicators"
   ]
  },
  {
   "cell_type": "markdown",
   "metadata": {},
   "source": [
    "DevInfo assigns Indicator IDs that aren't related to Indicator IDs set out by the Sustainable Development Goals. This script will export a list to CSV file that will include the DevInfo Indicator IDs & Names along with three addtional columns: SDG_GOAL, SDG_TARGET, & SDG_INDICATOR. Those addtional columns will need to be mapped to the DevInfo Indicators."
   ]
  },
  {
   "cell_type": "code",
   "execution_count": null,
   "metadata": {},
   "outputs": [],
   "source": [
    "import os\n",
    "import pyodbc\n",
    "import csv"
   ]
  },
  {
   "cell_type": "markdown",
   "metadata": {},
   "source": [
    "### Test to see if you have the needed drivers installed to connect to an Access Database\n",
    "Run the line below and if you see an emtpy array: `[]` as a result, you may need to install the 64-bit ACE drivers\n",
    "\n",
    "*for reference https://github.com/mkleehammer/pyodbc/wiki/Connecting-to-Microsoft-Access*\n",
    "\n",
    "*for 64-bit drivers : https://www.microsoft.com/en-us/download/confirmation.aspx?id=13255*"
   ]
  },
  {
   "cell_type": "code",
   "execution_count": null,
   "metadata": {},
   "outputs": [],
   "source": [
    "[x for x in pyodbc.drivers() if x.startswith('Microsoft Access Driver')]"
   ]
  },
  {
   "cell_type": "markdown",
   "metadata": {},
   "source": [
    "### Set your working directory\n",
    "example: *C:\\users\\me\\working_directory\\my_country*"
   ]
  },
  {
   "cell_type": "code",
   "execution_count": null,
   "metadata": {},
   "outputs": [],
   "source": [
    "output_working_directory = r'C:\\Users\\adam6475\\devinfo\\car'"
   ]
  },
  {
   "cell_type": "markdown",
   "metadata": {},
   "source": [
    "### Enter the path to your DevInfo Access Database\n",
    "example: *C:\\users\\me\\working_directory\\my_country\\my_devinfo_database.mdb (.accdb)*"
   ]
  },
  {
   "cell_type": "code",
   "execution_count": null,
   "metadata": {},
   "outputs": [],
   "source": [
    "access_database = r'C:\\Users\\adam6475\\devinfo\\car\\car.mdb'"
   ]
  },
  {
   "cell_type": "markdown",
   "metadata": {},
   "source": [
    "### Enter the location and name for your output CSV file\n",
    "example: *C:\\users\\me\\working_directory\\my_country\\indicators_to_be_mapped.csv*"
   ]
  },
  {
   "cell_type": "code",
   "execution_count": null,
   "metadata": {},
   "outputs": [],
   "source": [
    "output_csv = r'C:\\Users\\adam6475\\devinfo\\car\\indicators_to_be_mapped.csv'"
   ]
  },
  {
   "cell_type": "markdown",
   "metadata": {},
   "source": [
    "## Execute the query against the DevInfo Access tables"
   ]
  },
  {
   "cell_type": "code",
   "execution_count": null,
   "metadata": {},
   "outputs": [],
   "source": [
    "connStr = (\n",
    "    r\"Driver={{Microsoft Access Driver (*.mdb, *.accdb)}};\"\n",
    "    r\"DBQ={};\".format(access_database)v\n",
    "    )\n",
    "\n",
    "cnxn = pyodbc.connect(connStr)\n",
    "\n",
    "sql = \"\"\"\\\n",
    "SELECT \n",
    "ut_indicator_en.Indicator_NId AS DI_INDICATOR_ID, \n",
    "ut_indicator_en.Indicator_Name AS DI_INDICATOR_NAME,  \n",
    "'' as SDG_GOAL,\n",
    "'' as SDG_TARGET,\n",
    "'' as SDG_INDICATOR\n",
    "\n",
    "FROM ut_indicator_en;\n",
    "\"\"\"\n",
    "\n",
    "crsr = cnxn.execute(sql)\n",
    "\n",
    "rows = crsr.fetchall()\n",
    "\n",
    "print ('sucessfully executed data query :: {} rows returned'.format(len(rows)))"
   ]
  },
  {
   "cell_type": "markdown",
   "metadata": {},
   "source": [
    "## Write the result to a CSV file"
   ]
  },
  {
   "cell_type": "code",
   "execution_count": null,
   "metadata": {},
   "outputs": [],
   "source": [
    "output_path = os.path.abspath(output_csv)\n",
    "\n",
    "# set encoding \n",
    "# when reading some CSV files, there may be encoding issues that result in unicode characters appearing in the field names\n",
    "# if you have any unexpected behavior that is related to this, either re-save your file with \"utf-8\" encoding\n",
    "# or try using 'utf-8-sig' as your encoding value below\n",
    "# Stack Overflow reference: https://stackoverflow.com/questions/17912307/u-ufeff-in-python-string/17912811#17912811\n",
    "encoding = 'utf-8-sig'\n",
    "with open(output_path, 'w', encoding=encoding, newline='') as csvfile:\n",
    "    writer = csv.writer(csvfile)\n",
    "    \n",
    "    header_row = [d[0] for d in crsr.description]\n",
    "        \n",
    "    writer.writerow(header_row)\n",
    "    \n",
    "    for row in rows:\n",
    "        writer.writerow(row)\n",
    "\n",
    "print ('csv successfully created at {}'.format(os.path.abspath(output_path)))"
   ]
  }
 ],
 "metadata": {
  "kernelspec": {
   "display_name": "Python 3",
   "language": "python",
   "name": "python3"
  },
  "language_info": {
   "codemirror_mode": {
    "name": "ipython",
    "version": 3
   },
   "file_extension": ".py",
   "mimetype": "text/x-python",
   "name": "python",
   "nbconvert_exporter": "python",
   "pygments_lexer": "ipython3",
   "version": "3.6.5"
  }
 },
 "nbformat": 4,
 "nbformat_minor": 2
}
